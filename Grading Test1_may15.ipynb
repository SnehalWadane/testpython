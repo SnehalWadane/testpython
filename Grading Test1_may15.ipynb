{
 "cells": [
  {
   "cell_type": "markdown",
   "id": "ddd91639",
   "metadata": {},
   "source": [
    "# Machine learning -FST-5\n",
    "Grading Test -15-05-2023\n",
    "\n",
    "Note : Read all the questions carefully before answering.\n",
    "\n",
    "Save your jupyter notebook with ur name_date pattern ( shilpa_may15) and upload on github,and submit\n",
    "the github link in the google form provided."
   ]
  },
  {
   "cell_type": "markdown",
   "id": "1544886e",
   "metadata": {},
   "source": [
    "## PART A ( Multiple choice 6*1 = 6)"
   ]
  },
  {
   "cell_type": "raw",
   "id": "5ca4c874",
   "metadata": {},
   "source": [
    "\n",
    "1.A Lambda Function is a _________function\n",
    "\n",
    "a)Small function\n",
    "\n",
    "b)Anonymous function\n",
    "\n",
    "c)Default function\n",
    "\n",
    "d)All of the above"
   ]
  },
  {
   "cell_type": "code",
   "execution_count": null,
   "id": "1600cd68",
   "metadata": {},
   "outputs": [],
   "source": [
    "B) Anonymous function"
   ]
  },
  {
   "cell_type": "raw",
   "id": "576cf94f",
   "metadata": {},
   "source": [
    "2.Why would you use the pass statement ?\n",
    "\n",
    "a) Python has the syntactical requirement that code blocks cannot be empty.\n",
    "\n",
    "b)Ignoring (all or) a certain type of Exception\n",
    "\n",
    "c)Testing that code runs properly for a few test values, without caring about the results\n",
    "\n",
    "d) All of the above"
   ]
  },
  {
   "cell_type": "code",
   "execution_count": null,
   "id": "f6092b84",
   "metadata": {},
   "outputs": [],
   "source": [
    "ans:d)  all of the above"
   ]
  },
  {
   "cell_type": "raw",
   "id": "2d30d157",
   "metadata": {},
   "source": [
    "3.What is MRO in Python?\n",
    "\n",
    "a)Machine learning repository\n",
    "\n",
    "b)defines the order in which the base classes are searched when executing a method.\n",
    "\n",
    "c)Method over riding\n",
    "\n",
    "d)Method overloading"
   ]
  },
  {
   "cell_type": "code",
   "execution_count": null,
   "id": "dea361ef",
   "metadata": {},
   "outputs": [],
   "source": [
    "ans:a)Machine learning repository"
   ]
  },
  {
   "cell_type": "raw",
   "id": "4092300f",
   "metadata": {},
   "source": [
    "4.What is self in Python?\n",
    "\n",
    "a)You can access the attributes and methods of the class in python\n",
    "\n",
    "b)Represents the instance of the class\n",
    "\n",
    "c)Binds the attributes with the given argument\n",
    "\n",
    "d) All of the above\n",
    "\n"
   ]
  },
  {
   "cell_type": "code",
   "execution_count": null,
   "id": "8ed86bd6",
   "metadata": {},
   "outputs": [],
   "source": [
    "ans:d)All of the above"
   ]
  },
  {
   "cell_type": "raw",
   "id": "333b03b7",
   "metadata": {},
   "source": [
    "5.What is __init__?\n",
    "\n",
    "a)Object of every class\n",
    "\n",
    "b)Constructor method in python\n",
    "\n",
    "c)Only few classes in python have init methods\n",
    "\n",
    "d)None of the above"
   ]
  },
  {
   "cell_type": "code",
   "execution_count": null,
   "id": "4410b3e2",
   "metadata": {},
   "outputs": [],
   "source": [
    "ans:b)Constructor method in python"
   ]
  },
  {
   "cell_type": "code",
   "execution_count": null,
   "id": "6ebe293d",
   "metadata": {},
   "outputs": [],
   "source": [
    "6.What does * indicate in regular expression?\n",
    "\n",
    "a)One or more occurrences\n",
    "\n",
    "b)Zero or more occurrences\n",
    "\n",
    "c)Zero or one occurrences\n",
    "\n",
    "d)Exactly the specified number of occurrences"
   ]
  },
  {
   "cell_type": "code",
   "execution_count": null,
   "id": "02fcf25f",
   "metadata": {},
   "outputs": [],
   "source": [
    "ans:b)Zero or more occurrences"
   ]
  },
  {
   "cell_type": "code",
   "execution_count": null,
   "id": "6b1ab69d",
   "metadata": {},
   "outputs": [],
   "source": [
    "## PART B ( Answer in a line 10*2  = 20)\n"
   ]
  },
  {
   "cell_type": "raw",
   "id": "521ac3d0",
   "metadata": {},
   "source": [
    "\n",
    "6.What is break and continue in python? Explain with example"
   ]
  },
  {
   "cell_type": "code",
   "execution_count": 84,
   "id": "07151fa4",
   "metadata": {},
   "outputs": [
    {
     "name": "stdout",
     "output_type": "stream",
     "text": [
      "0\n",
      "1\n",
      "2\n"
     ]
    }
   ],
   "source": [
    " \n",
    "for i in range(6):\n",
    "    if i==3:\n",
    "        break\n",
    "    print(i)\n",
    "                 "
   ]
  },
  {
   "cell_type": "code",
   "execution_count": 82,
   "id": "cd4b475f",
   "metadata": {},
   "outputs": [
    {
     "name": "stdout",
     "output_type": "stream",
     "text": [
      "0\n",
      "1\n",
      "2\n",
      "3\n"
     ]
    }
   ],
   "source": [
    "for i in range(5):\n",
    "    if i==4:\n",
    "        continue\n",
    "    print(i)        \n",
    "   "
   ]
  },
  {
   "cell_type": "raw",
   "id": "06ed9feb",
   "metadata": {},
   "source": [
    "7.What are Dict and List comprehensions? Give atleast one example(code)"
   ]
  },
  {
   "cell_type": "code",
   "execution_count": 54,
   "id": "b06d8946",
   "metadata": {},
   "outputs": [
    {
     "data": {
      "text/plain": [
       "[4, 6, 8, 10]"
      ]
     },
     "execution_count": 54,
     "metadata": {},
     "output_type": "execute_result"
    }
   ],
   "source": [
    "#List comprehensions\n",
    "p = [3,4,5,6,7,8,9,10]\n",
    "\n",
    "ol = [i for i in p if i %2== 0]\n",
    " \n",
    "\n",
    "ol"
   ]
  },
  {
   "cell_type": "code",
   "execution_count": 77,
   "id": "fd613776",
   "metadata": {},
   "outputs": [
    {
     "name": "stdout",
     "output_type": "stream",
     "text": [
      "{'a': 1, 'b': 2, 'c': 3, 'd': 5}\n"
     ]
    }
   ],
   "source": [
    "#Dict comprehensions\n",
    "ch = [\"a\",\"b\",\"c\",\"d\"]\n",
    "no = [1,2,3,5]\n",
    "o = {i:j for i,j in zip(ch,no)}\n",
    "print(o)"
   ]
  },
  {
   "cell_type": "raw",
   "id": "af7a43ae",
   "metadata": {},
   "source": [
    "8.How do you create a class in Python?"
   ]
  },
  {
   "cell_type": "code",
   "execution_count": 23,
   "id": "3517d2bb",
   "metadata": {},
   "outputs": [
    {
     "name": "stdout",
     "output_type": "stream",
     "text": [
      "hello\n"
     ]
    }
   ],
   "source": [
    "class Student:\n",
    "    def disply(self):\n",
    "        print(\"hello\")\n",
    "        \n",
    "\n",
    "s=Student()\n",
    "s.disply()"
   ]
  },
  {
   "cell_type": "raw",
   "id": "5eff5232",
   "metadata": {},
   "source": [
    "9.What is inheritance ?Give  one example \n"
   ]
  },
  {
   "cell_type": "code",
   "execution_count": 26,
   "id": "32bfba85",
   "metadata": {},
   "outputs": [
    {
     "name": "stdout",
     "output_type": "stream",
     "text": [
      "Good Mornig Student\n",
      "Good Mornig Teacher\n"
     ]
    }
   ],
   "source": [
    "class Teacher:\n",
    "    def show(self):\n",
    "        print(\"Good Mornig Student\")\n",
    "        \n",
    "class Student(Teacher):\n",
    "    def display(self):\n",
    "        print(\"Good Mornig Teacher\")\n",
    "        \n",
    "s=Student()\n",
    "s.show()\n",
    "s.display()\n",
    "        "
   ]
  },
  {
   "cell_type": "raw",
   "id": "e621bf99",
   "metadata": {},
   "source": [
    "10.What is polymorphism? Give one example"
   ]
  },
  {
   "cell_type": "code",
   "execution_count": 52,
   "id": "bf7ca352",
   "metadata": {},
   "outputs": [
    {
     "name": "stdout",
     "output_type": "stream",
     "text": [
      " I am sphone\n",
      " I am Phone\n"
     ]
    }
   ],
   "source": [
    "\n",
    "#PolyMorpfinsm\n",
    "class phone:\n",
    "    def show(self):\n",
    "        print(\" I am Phone\")\n",
    "        \n",
    "class sphone( phone):\n",
    "    def show(self):\n",
    "        print(\" I am sphone\")\n",
    "        super().show()  #override the method\n",
    "        \n",
    "s=sphone()\n",
    "s.show()"
   ]
  },
  {
   "cell_type": "raw",
   "id": "d7fc35ee",
   "metadata": {},
   "source": [
    "11.Difference between multilevel and multiple inheritance?"
   ]
  },
  {
   "cell_type": "code",
   "execution_count": 28,
   "id": "5f3f1361",
   "metadata": {},
   "outputs": [
    {
     "name": "stdout",
     "output_type": "stream",
     "text": [
      " I am GrandFather\n",
      " I am Father\n",
      " I am child\n"
     ]
    }
   ],
   "source": [
    "# Multilevel\n",
    "class Grandfather:\n",
    "    def show(self):\n",
    "        print(\" I am GrandFather\")\n",
    "        \n",
    "class Father( Grandfather):\n",
    "    def showF(self):\n",
    "        print(\" I am Father\")\n",
    "        \n",
    "class child(Father):\n",
    "    def showc(self):\n",
    "        print(\" I am child\")\n",
    "        \n",
    "c=child()\n",
    "c.show()\n",
    "c.showF()\n",
    "c.showc()"
   ]
  },
  {
   "cell_type": "code",
   "execution_count": 33,
   "id": "aacc3c7e",
   "metadata": {},
   "outputs": [
    {
     "name": "stdout",
     "output_type": "stream",
     "text": [
      "I am Father\n",
      "I am Mother\n",
      "I am child\n"
     ]
    }
   ],
   "source": [
    "\n",
    "#Multiple\n",
    "\n",
    "class father:\n",
    "    def show(self):\n",
    "        print(\"I am Father\")\n",
    "    \n",
    "class mother:\n",
    "    def show1(self):\n",
    "        print(\"I am Mother\")\n",
    "class child(father,mother):\n",
    "    def show2(self):\n",
    "        print(\"I am child\")\n",
    "\n",
    "    \n",
    "c=child()\n",
    "c.show()\n",
    "c.show1()\n",
    "c.show2()\n",
    "    \n",
    "     "
   ]
  },
  {
   "cell_type": "raw",
   "id": "4cbc99c0",
   "metadata": {},
   "source": [
    "12.Create a 1D,2D and 3D array?"
   ]
  },
  {
   "cell_type": "code",
   "execution_count": 90,
   "id": "41b7e7ad",
   "metadata": {},
   "outputs": [
    {
     "name": "stdout",
     "output_type": "stream",
     "text": [
      "<IntegerArray>\n",
      "[1, 3, 4]\n",
      "Length: 3, dtype: Int64\n",
      "<PandasArray>\n",
      "[[1, 3, 4], [4, 5, 6]]\n",
      "Length: 2, dtype: object\n",
      "<PandasArray>\n",
      "[[1, 2, 13], [4, 5, 6], [11, 22, 33]]\n",
      "Length: 3, dtype: object\n"
     ]
    }
   ],
   "source": [
    "import pandas as np\n",
    "#1D\n",
    "arr=np.array([1,3,4])\n",
    "print(arr)\n",
    "\n",
    "#2D\n",
    "c=np.array([[1,3,4],[4,5,6]])\n",
    "print(c)\n",
    "\n",
    "#3D\n",
    "t=np.array([[1,2,13],[4,5,6],[11,22,33]])\n",
    "print(t)"
   ]
  },
  {
   "cell_type": "raw",
   "id": "971f39b4",
   "metadata": {},
   "source": [
    "13.How will you reverse the numpy array using one line of code?"
   ]
  },
  {
   "cell_type": "code",
   "execution_count": 98,
   "id": "84d4f8ca",
   "metadata": {},
   "outputs": [
    {
     "name": "stdout",
     "output_type": "stream",
     "text": [
      "<IntegerArray>\n",
      "[1, 3, 4]\n",
      "Length: 3, dtype: Int64\n"
     ]
    },
    {
     "data": {
      "text/plain": [
       "<IntegerArray>\n",
       "[4, 3, 1]\n",
       "Length: 3, dtype: Int64"
      ]
     },
     "execution_count": 98,
     "metadata": {},
     "output_type": "execute_result"
    }
   ],
   "source": [
    "arr=np.array([1,3,4])\n",
    "print(arr)\n",
    "Rev=arr[::-1]\n",
    "Rev\n"
   ]
  },
  {
   "cell_type": "raw",
   "id": "d87f6616",
   "metadata": {},
   "source": [
    "14.What advantages do NumPy arrays offer over  Python lists?"
   ]
  },
  {
   "cell_type": "markdown",
   "id": "4718a83c",
   "metadata": {},
   "source": [
    "# ans part 2 Q.14\n",
    "NumPy is a Python library.\n",
    "\n",
    "NumPy is used for working with arrays.\n",
    "\n",
    "NumPy is short for \"Numerical Python\"."
   ]
  },
  {
   "cell_type": "raw",
   "id": "3461a610",
   "metadata": {},
   "source": [
    "15.python3 code to print the below pattern\n",
    "\n",
    "*\n",
    "**\n",
    "***"
   ]
  },
  {
   "cell_type": "code",
   "execution_count": 47,
   "id": "2d697192",
   "metadata": {},
   "outputs": [
    {
     "name": "stdout",
     "output_type": "stream",
     "text": [
      "enter the number:4\n",
      "\n",
      "*\n",
      "**\n",
      "***\n"
     ]
    }
   ],
   "source": [
    "m= int(input(\"enter the number:\"))\n",
    "for i in range(m):\n",
    "    for j in range(i):\n",
    "        print(\"*\",end = \"\")\n",
    "    print()"
   ]
  },
  {
   "cell_type": "markdown",
   "id": "a0bc01f6",
   "metadata": {},
   "source": [
    "## PART C (Exploratory data analysis)"
   ]
  },
  {
   "cell_type": "raw",
   "id": "fe95eaca",
   "metadata": {},
   "source": [
    "16.Draw insights from the dataset provided using suitable visualization libraries.(6*4 = 24)\n",
    "\n",
    "\n",
    "\n",
    "1.Load the \"Diamonds dataset \" from seaborn library\n",
    "\n",
    "Dataset desciption:\n",
    "(carat: weight of the diamond\n",
    "cut: (Fair, Good, Very Good, Premium, Ideal) ordinal\n",
    "color: J (worst) to D (best) ordinal\n",
    "clarity: [I1 (worst), SI2, SI1, VS2, VS1, VVS2, VVS1, IF (best)]\n",
    "depth: z / (mean(x,y)) = 2*z / (x+y) in percentage\n",
    "table: percentage of width on the top relative to width\n",
    "price: given in US Dollars\n",
    "x: length in mm\n",
    "y: width in mm\n",
    "z: depth in mm)\n",
    "\n",
    "2.Which column has highest correlation with the target variable?(Graphs)\n",
    "\n",
    "3.Find the outliers in each column?Use suitable graphs\n",
    "\n",
    "4.what is the count of premium diamonds in the dataset?\n",
    "\n",
    "5.What is the average price of diamonds?\n",
    "\n",
    "6.Create a new column called \"size = x*y*z"
   ]
  },
  {
   "cell_type": "code",
   "execution_count": 115,
   "id": "4f054230",
   "metadata": {},
   "outputs": [],
   "source": [
    "import seaborn as sns\n",
    "import matplotlib.pyplot as plt"
   ]
  },
  {
   "cell_type": "code",
   "execution_count": 116,
   "id": "8b6aed7c",
   "metadata": {},
   "outputs": [
    {
     "data": {
      "text/html": [
       "<div>\n",
       "<style scoped>\n",
       "    .dataframe tbody tr th:only-of-type {\n",
       "        vertical-align: middle;\n",
       "    }\n",
       "\n",
       "    .dataframe tbody tr th {\n",
       "        vertical-align: top;\n",
       "    }\n",
       "\n",
       "    .dataframe thead th {\n",
       "        text-align: right;\n",
       "    }\n",
       "</style>\n",
       "<table border=\"1\" class=\"dataframe\">\n",
       "  <thead>\n",
       "    <tr style=\"text-align: right;\">\n",
       "      <th></th>\n",
       "      <th>carat</th>\n",
       "      <th>cut</th>\n",
       "      <th>color</th>\n",
       "      <th>clarity</th>\n",
       "      <th>depth</th>\n",
       "      <th>table</th>\n",
       "      <th>price</th>\n",
       "      <th>x</th>\n",
       "      <th>y</th>\n",
       "      <th>z</th>\n",
       "    </tr>\n",
       "  </thead>\n",
       "  <tbody>\n",
       "    <tr>\n",
       "      <th>0</th>\n",
       "      <td>0.23</td>\n",
       "      <td>Ideal</td>\n",
       "      <td>E</td>\n",
       "      <td>SI2</td>\n",
       "      <td>61.5</td>\n",
       "      <td>55.0</td>\n",
       "      <td>326</td>\n",
       "      <td>3.95</td>\n",
       "      <td>3.98</td>\n",
       "      <td>2.43</td>\n",
       "    </tr>\n",
       "    <tr>\n",
       "      <th>1</th>\n",
       "      <td>0.21</td>\n",
       "      <td>Premium</td>\n",
       "      <td>E</td>\n",
       "      <td>SI1</td>\n",
       "      <td>59.8</td>\n",
       "      <td>61.0</td>\n",
       "      <td>326</td>\n",
       "      <td>3.89</td>\n",
       "      <td>3.84</td>\n",
       "      <td>2.31</td>\n",
       "    </tr>\n",
       "    <tr>\n",
       "      <th>2</th>\n",
       "      <td>0.23</td>\n",
       "      <td>Good</td>\n",
       "      <td>E</td>\n",
       "      <td>VS1</td>\n",
       "      <td>56.9</td>\n",
       "      <td>65.0</td>\n",
       "      <td>327</td>\n",
       "      <td>4.05</td>\n",
       "      <td>4.07</td>\n",
       "      <td>2.31</td>\n",
       "    </tr>\n",
       "    <tr>\n",
       "      <th>3</th>\n",
       "      <td>0.29</td>\n",
       "      <td>Premium</td>\n",
       "      <td>I</td>\n",
       "      <td>VS2</td>\n",
       "      <td>62.4</td>\n",
       "      <td>58.0</td>\n",
       "      <td>334</td>\n",
       "      <td>4.20</td>\n",
       "      <td>4.23</td>\n",
       "      <td>2.63</td>\n",
       "    </tr>\n",
       "    <tr>\n",
       "      <th>4</th>\n",
       "      <td>0.31</td>\n",
       "      <td>Good</td>\n",
       "      <td>J</td>\n",
       "      <td>SI2</td>\n",
       "      <td>63.3</td>\n",
       "      <td>58.0</td>\n",
       "      <td>335</td>\n",
       "      <td>4.34</td>\n",
       "      <td>4.35</td>\n",
       "      <td>2.75</td>\n",
       "    </tr>\n",
       "    <tr>\n",
       "      <th>...</th>\n",
       "      <td>...</td>\n",
       "      <td>...</td>\n",
       "      <td>...</td>\n",
       "      <td>...</td>\n",
       "      <td>...</td>\n",
       "      <td>...</td>\n",
       "      <td>...</td>\n",
       "      <td>...</td>\n",
       "      <td>...</td>\n",
       "      <td>...</td>\n",
       "    </tr>\n",
       "    <tr>\n",
       "      <th>53935</th>\n",
       "      <td>0.72</td>\n",
       "      <td>Ideal</td>\n",
       "      <td>D</td>\n",
       "      <td>SI1</td>\n",
       "      <td>60.8</td>\n",
       "      <td>57.0</td>\n",
       "      <td>2757</td>\n",
       "      <td>5.75</td>\n",
       "      <td>5.76</td>\n",
       "      <td>3.50</td>\n",
       "    </tr>\n",
       "    <tr>\n",
       "      <th>53936</th>\n",
       "      <td>0.72</td>\n",
       "      <td>Good</td>\n",
       "      <td>D</td>\n",
       "      <td>SI1</td>\n",
       "      <td>63.1</td>\n",
       "      <td>55.0</td>\n",
       "      <td>2757</td>\n",
       "      <td>5.69</td>\n",
       "      <td>5.75</td>\n",
       "      <td>3.61</td>\n",
       "    </tr>\n",
       "    <tr>\n",
       "      <th>53937</th>\n",
       "      <td>0.70</td>\n",
       "      <td>Very Good</td>\n",
       "      <td>D</td>\n",
       "      <td>SI1</td>\n",
       "      <td>62.8</td>\n",
       "      <td>60.0</td>\n",
       "      <td>2757</td>\n",
       "      <td>5.66</td>\n",
       "      <td>5.68</td>\n",
       "      <td>3.56</td>\n",
       "    </tr>\n",
       "    <tr>\n",
       "      <th>53938</th>\n",
       "      <td>0.86</td>\n",
       "      <td>Premium</td>\n",
       "      <td>H</td>\n",
       "      <td>SI2</td>\n",
       "      <td>61.0</td>\n",
       "      <td>58.0</td>\n",
       "      <td>2757</td>\n",
       "      <td>6.15</td>\n",
       "      <td>6.12</td>\n",
       "      <td>3.74</td>\n",
       "    </tr>\n",
       "    <tr>\n",
       "      <th>53939</th>\n",
       "      <td>0.75</td>\n",
       "      <td>Ideal</td>\n",
       "      <td>D</td>\n",
       "      <td>SI2</td>\n",
       "      <td>62.2</td>\n",
       "      <td>55.0</td>\n",
       "      <td>2757</td>\n",
       "      <td>5.83</td>\n",
       "      <td>5.87</td>\n",
       "      <td>3.64</td>\n",
       "    </tr>\n",
       "  </tbody>\n",
       "</table>\n",
       "<p>53940 rows × 10 columns</p>\n",
       "</div>"
      ],
      "text/plain": [
       "       carat        cut color clarity  depth  table  price     x     y     z\n",
       "0       0.23      Ideal     E     SI2   61.5   55.0    326  3.95  3.98  2.43\n",
       "1       0.21    Premium     E     SI1   59.8   61.0    326  3.89  3.84  2.31\n",
       "2       0.23       Good     E     VS1   56.9   65.0    327  4.05  4.07  2.31\n",
       "3       0.29    Premium     I     VS2   62.4   58.0    334  4.20  4.23  2.63\n",
       "4       0.31       Good     J     SI2   63.3   58.0    335  4.34  4.35  2.75\n",
       "...      ...        ...   ...     ...    ...    ...    ...   ...   ...   ...\n",
       "53935   0.72      Ideal     D     SI1   60.8   57.0   2757  5.75  5.76  3.50\n",
       "53936   0.72       Good     D     SI1   63.1   55.0   2757  5.69  5.75  3.61\n",
       "53937   0.70  Very Good     D     SI1   62.8   60.0   2757  5.66  5.68  3.56\n",
       "53938   0.86    Premium     H     SI2   61.0   58.0   2757  6.15  6.12  3.74\n",
       "53939   0.75      Ideal     D     SI2   62.2   55.0   2757  5.83  5.87  3.64\n",
       "\n",
       "[53940 rows x 10 columns]"
      ]
     },
     "execution_count": 116,
     "metadata": {},
     "output_type": "execute_result"
    }
   ],
   "source": [
    "df=sns.load_dataset(\"diamonds\")\n",
    "\n",
    "df"
   ]
  },
  {
   "cell_type": "code",
   "execution_count": 117,
   "id": "acf648ee",
   "metadata": {},
   "outputs": [
    {
     "name": "stderr",
     "output_type": "stream",
     "text": [
      "C:\\Users\\User\\AppData\\Local\\Temp\\ipykernel_932\\633390275.py:2: FutureWarning: The default value of numeric_only in DataFrame.corr is deprecated. In a future version, it will default to False. Select only valid columns or specify the value of numeric_only to silence this warning.\n",
      "  corr=df.corr()\n"
     ]
    },
    {
     "data": {
      "text/plain": [
       "<Axes: >"
      ]
     },
     "execution_count": 117,
     "metadata": {},
     "output_type": "execute_result"
    },
    {
     "data": {
      "image/png": "[encoded data removed]",
      "text/plain": [
       "<Figure size 640x480 with 2 Axes>"
      ]
     },
     "metadata": {},
     "output_type": "display_data"
    }
   ],
   "source": [
    "#Which column has highest correlation with the target variable?(Graphs)\n",
    "corr=df.corr()\n",
    "sns.heatmap(corr)"
   ]
  },
  {
   "cell_type": "code",
   "execution_count": 118,
   "id": "27121f0f",
   "metadata": {},
   "outputs": [
    {
     "data": {
      "text/plain": [
       "<Axes: >"
      ]
     },
     "execution_count": 118,
     "metadata": {},
     "output_type": "execute_result"
    },
    {
     "data": {
      "image/png": "[encoded data removed]",
      "text/plain": [
       "<Figure size 640x480 with 1 Axes>"
      ]
     },
     "metadata": {},
     "output_type": "display_data"
    }
   ],
   "source": [
    "#Find the outliers in each column?Use suitable graphs\n",
    "sns.boxplot(data=df)"
   ]
  },
  {
   "cell_type": "code",
   "execution_count": 119,
   "id": "adf88c50",
   "metadata": {},
   "outputs": [
    {
     "data": {
      "image/png": "[encoded data removed]",
      "text/plain": [
       "<Figure size 640x480 with 1 Axes>"
      ]
     },
     "metadata": {},
     "output_type": "display_data"
    }
   ],
   "source": [
    "sns.boxplot(x=df['carat'])\n",
    "plt.show()"
   ]
  },
  {
   "cell_type": "code",
   "execution_count": 121,
   "id": "432bab57",
   "metadata": {},
   "outputs": [
    {
     "data": {
      "image/png": "[encoded data removed]",
      "text/plain": [
       "<Figure size 640x480 with 1 Axes>"
      ]
     },
     "metadata": {},
     "output_type": "display_data"
    }
   ],
   "source": [
    "sns.boxplot(x=df['table'])\n",
    "plt.show()"
   ]
  },
  {
   "cell_type": "code",
   "execution_count": 122,
   "id": "1e8c101d",
   "metadata": {},
   "outputs": [
    {
     "data": {
      "image/png": "[encoded data removed]",
      "text/plain": [
       "<Figure size 640x480 with 1 Axes>"
      ]
     },
     "metadata": {},
     "output_type": "display_data"
    }
   ],
   "source": [
    "sns.boxplot(x=df['price'])\n",
    "plt.show()"
   ]
  },
  {
   "cell_type": "code",
   "execution_count": 123,
   "id": "1849c6f7",
   "metadata": {},
   "outputs": [
    {
     "data": {
      "image/png": "[encoded data removed]",
      "text/plain": [
       "<Figure size 640x480 with 1 Axes>"
      ]
     },
     "metadata": {},
     "output_type": "display_data"
    }
   ],
   "source": [
    "sns.boxplot(x=df['depth'])\n",
    "plt.show()"
   ]
  },
  {
   "cell_type": "code",
   "execution_count": 127,
   "id": "36b8cd1e",
   "metadata": {},
   "outputs": [
    {
     "name": "stdout",
     "output_type": "stream",
     "text": [
      "Count of premium diamonds in the dataset: 13791\n"
     ]
    }
   ],
   "source": [
    "#what is the count of premium diamonds in the dataset?\n",
    "premium_count = df[df['cut'] == 'Premium'].shape[0]\n",
    "print(\"Count of premium diamonds in the dataset:\", premium_count)"
   ]
  },
  {
   "cell_type": "code",
   "execution_count": 129,
   "id": "cf6ecd26",
   "metadata": {},
   "outputs": [
    {
     "name": "stdout",
     "output_type": "stream",
     "text": [
      "Average price of diamonds: 3932.799721913237\n"
     ]
    }
   ],
   "source": [
    "#What is the average price of diamonds?\n",
    "avg_price = df['price'].mean()\n",
    "print(\"Average price of diamonds:\", avg_price)"
   ]
  },
  {
   "cell_type": "code",
   "execution_count": 131,
   "id": "7a1c09dc",
   "metadata": {},
   "outputs": [
    {
     "data": {
      "text/html": [
       "<div>\n",
       "<style scoped>\n",
       "    .dataframe tbody tr th:only-of-type {\n",
       "        vertical-align: middle;\n",
       "    }\n",
       "\n",
       "    .dataframe tbody tr th {\n",
       "        vertical-align: top;\n",
       "    }\n",
       "\n",
       "    .dataframe thead th {\n",
       "        text-align: right;\n",
       "    }\n",
       "</style>\n",
       "<table border=\"1\" class=\"dataframe\">\n",
       "  <thead>\n",
       "    <tr style=\"text-align: right;\">\n",
       "      <th></th>\n",
       "      <th>carat</th>\n",
       "      <th>cut</th>\n",
       "      <th>color</th>\n",
       "      <th>clarity</th>\n",
       "      <th>depth</th>\n",
       "      <th>table</th>\n",
       "      <th>price</th>\n",
       "      <th>x</th>\n",
       "      <th>y</th>\n",
       "      <th>z</th>\n",
       "      <th>size</th>\n",
       "    </tr>\n",
       "  </thead>\n",
       "  <tbody>\n",
       "    <tr>\n",
       "      <th>0</th>\n",
       "      <td>0.23</td>\n",
       "      <td>Ideal</td>\n",
       "      <td>E</td>\n",
       "      <td>SI2</td>\n",
       "      <td>61.5</td>\n",
       "      <td>55.0</td>\n",
       "      <td>326</td>\n",
       "      <td>3.95</td>\n",
       "      <td>3.98</td>\n",
       "      <td>2.43</td>\n",
       "      <td>38.202030</td>\n",
       "    </tr>\n",
       "    <tr>\n",
       "      <th>1</th>\n",
       "      <td>0.21</td>\n",
       "      <td>Premium</td>\n",
       "      <td>E</td>\n",
       "      <td>SI1</td>\n",
       "      <td>59.8</td>\n",
       "      <td>61.0</td>\n",
       "      <td>326</td>\n",
       "      <td>3.89</td>\n",
       "      <td>3.84</td>\n",
       "      <td>2.31</td>\n",
       "      <td>34.505856</td>\n",
       "    </tr>\n",
       "    <tr>\n",
       "      <th>2</th>\n",
       "      <td>0.23</td>\n",
       "      <td>Good</td>\n",
       "      <td>E</td>\n",
       "      <td>VS1</td>\n",
       "      <td>56.9</td>\n",
       "      <td>65.0</td>\n",
       "      <td>327</td>\n",
       "      <td>4.05</td>\n",
       "      <td>4.07</td>\n",
       "      <td>2.31</td>\n",
       "      <td>38.076885</td>\n",
       "    </tr>\n",
       "    <tr>\n",
       "      <th>3</th>\n",
       "      <td>0.29</td>\n",
       "      <td>Premium</td>\n",
       "      <td>I</td>\n",
       "      <td>VS2</td>\n",
       "      <td>62.4</td>\n",
       "      <td>58.0</td>\n",
       "      <td>334</td>\n",
       "      <td>4.20</td>\n",
       "      <td>4.23</td>\n",
       "      <td>2.63</td>\n",
       "      <td>46.724580</td>\n",
       "    </tr>\n",
       "    <tr>\n",
       "      <th>4</th>\n",
       "      <td>0.31</td>\n",
       "      <td>Good</td>\n",
       "      <td>J</td>\n",
       "      <td>SI2</td>\n",
       "      <td>63.3</td>\n",
       "      <td>58.0</td>\n",
       "      <td>335</td>\n",
       "      <td>4.34</td>\n",
       "      <td>4.35</td>\n",
       "      <td>2.75</td>\n",
       "      <td>51.917250</td>\n",
       "    </tr>\n",
       "    <tr>\n",
       "      <th>...</th>\n",
       "      <td>...</td>\n",
       "      <td>...</td>\n",
       "      <td>...</td>\n",
       "      <td>...</td>\n",
       "      <td>...</td>\n",
       "      <td>...</td>\n",
       "      <td>...</td>\n",
       "      <td>...</td>\n",
       "      <td>...</td>\n",
       "      <td>...</td>\n",
       "      <td>...</td>\n",
       "    </tr>\n",
       "    <tr>\n",
       "      <th>53935</th>\n",
       "      <td>0.72</td>\n",
       "      <td>Ideal</td>\n",
       "      <td>D</td>\n",
       "      <td>SI1</td>\n",
       "      <td>60.8</td>\n",
       "      <td>57.0</td>\n",
       "      <td>2757</td>\n",
       "      <td>5.75</td>\n",
       "      <td>5.76</td>\n",
       "      <td>3.50</td>\n",
       "      <td>115.920000</td>\n",
       "    </tr>\n",
       "    <tr>\n",
       "      <th>53936</th>\n",
       "      <td>0.72</td>\n",
       "      <td>Good</td>\n",
       "      <td>D</td>\n",
       "      <td>SI1</td>\n",
       "      <td>63.1</td>\n",
       "      <td>55.0</td>\n",
       "      <td>2757</td>\n",
       "      <td>5.69</td>\n",
       "      <td>5.75</td>\n",
       "      <td>3.61</td>\n",
       "      <td>118.110175</td>\n",
       "    </tr>\n",
       "    <tr>\n",
       "      <th>53937</th>\n",
       "      <td>0.70</td>\n",
       "      <td>Very Good</td>\n",
       "      <td>D</td>\n",
       "      <td>SI1</td>\n",
       "      <td>62.8</td>\n",
       "      <td>60.0</td>\n",
       "      <td>2757</td>\n",
       "      <td>5.66</td>\n",
       "      <td>5.68</td>\n",
       "      <td>3.56</td>\n",
       "      <td>114.449728</td>\n",
       "    </tr>\n",
       "    <tr>\n",
       "      <th>53938</th>\n",
       "      <td>0.86</td>\n",
       "      <td>Premium</td>\n",
       "      <td>H</td>\n",
       "      <td>SI2</td>\n",
       "      <td>61.0</td>\n",
       "      <td>58.0</td>\n",
       "      <td>2757</td>\n",
       "      <td>6.15</td>\n",
       "      <td>6.12</td>\n",
       "      <td>3.74</td>\n",
       "      <td>140.766120</td>\n",
       "    </tr>\n",
       "    <tr>\n",
       "      <th>53939</th>\n",
       "      <td>0.75</td>\n",
       "      <td>Ideal</td>\n",
       "      <td>D</td>\n",
       "      <td>SI2</td>\n",
       "      <td>62.2</td>\n",
       "      <td>55.0</td>\n",
       "      <td>2757</td>\n",
       "      <td>5.83</td>\n",
       "      <td>5.87</td>\n",
       "      <td>3.64</td>\n",
       "      <td>124.568444</td>\n",
       "    </tr>\n",
       "  </tbody>\n",
       "</table>\n",
       "<p>53940 rows × 11 columns</p>\n",
       "</div>"
      ],
      "text/plain": [
       "       carat        cut color clarity  depth  table  price     x     y     z  \\\n",
       "0       0.23      Ideal     E     SI2   61.5   55.0    326  3.95  3.98  2.43   \n",
       "1       0.21    Premium     E     SI1   59.8   61.0    326  3.89  3.84  2.31   \n",
       "2       0.23       Good     E     VS1   56.9   65.0    327  4.05  4.07  2.31   \n",
       "3       0.29    Premium     I     VS2   62.4   58.0    334  4.20  4.23  2.63   \n",
       "4       0.31       Good     J     SI2   63.3   58.0    335  4.34  4.35  2.75   \n",
       "...      ...        ...   ...     ...    ...    ...    ...   ...   ...   ...   \n",
       "53935   0.72      Ideal     D     SI1   60.8   57.0   2757  5.75  5.76  3.50   \n",
       "53936   0.72       Good     D     SI1   63.1   55.0   2757  5.69  5.75  3.61   \n",
       "53937   0.70  Very Good     D     SI1   62.8   60.0   2757  5.66  5.68  3.56   \n",
       "53938   0.86    Premium     H     SI2   61.0   58.0   2757  6.15  6.12  3.74   \n",
       "53939   0.75      Ideal     D     SI2   62.2   55.0   2757  5.83  5.87  3.64   \n",
       "\n",
       "             size  \n",
       "0       38.202030  \n",
       "1       34.505856  \n",
       "2       38.076885  \n",
       "3       46.724580  \n",
       "4       51.917250  \n",
       "...           ...  \n",
       "53935  115.920000  \n",
       "53936  118.110175  \n",
       "53937  114.449728  \n",
       "53938  140.766120  \n",
       "53939  124.568444  \n",
       "\n",
       "[53940 rows x 11 columns]"
      ]
     },
     "execution_count": 131,
     "metadata": {},
     "output_type": "execute_result"
    }
   ],
   "source": [
    "#6.Create a new column called \"size = x*y*z\n",
    "df['size'] = df.apply(lambda row: row['x'] * row['y'] * row['z'], axis=1)\n",
    "df"
   ]
  },
  {
   "cell_type": "code",
   "execution_count": null,
   "id": "d7373b58",
   "metadata": {},
   "outputs": [],
   "source": []
  }
 ],
 "metadata": {
  "kernelspec": {
   "display_name": "Python 3 (ipykernel)",
   "language": "python",
   "name": "python3"
  },
  "language_info": {
   "codemirror_mode": {
    "name": "ipython",
    "version": 3
   },
   "file_extension": ".py",
   "mimetype": "text/x-python",
   "name": "python",
   "nbconvert_exporter": "python",
   "pygments_lexer": "ipython3",
   "version": "3.10.9"
  }
 },
 "nbformat": 4,
 "nbformat_minor": 5
}
